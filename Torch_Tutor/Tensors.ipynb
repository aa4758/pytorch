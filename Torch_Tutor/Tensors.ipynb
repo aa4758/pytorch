{
  "nbformat": 4,
  "nbformat_minor": 0,
  "metadata": {
    "colab": {
      "provenance": [],
      "authorship_tag": "ABX9TyOZeZ0ZVyfVGKgSTspnXGQY",
      "include_colab_link": true
    },
    "kernelspec": {
      "name": "python3",
      "display_name": "Python 3"
    },
    "language_info": {
      "name": "python"
    }
  },
  "cells": [
    {
      "cell_type": "markdown",
      "metadata": {
        "id": "view-in-github",
        "colab_type": "text"
      },
      "source": [
        "<a href=\"https://colab.research.google.com/github/aa4758/pytorch_tutorial/blob/master/Tensors.ipynb\" target=\"_parent\"><img src=\"https://colab.research.google.com/assets/colab-badge.svg\" alt=\"Open In Colab\"/></a>"
      ]
    },
    {
      "cell_type": "markdown",
      "source": [
        "# Tensors\n",
        "- A torch. Tensor is a multi-dimensional matrix containing elements of a single data type\n",
        "- Similar to Numpy Arrays, but full of fun things that make them work better on GPU's (vs regular CPU's)\n",
        "- default data type of float32\n",
        "- More suitable for deep learning than a numpy array"
      ],
      "metadata": {
        "id": "ypTrAFeGE0_3"
      }
    },
    {
      "cell_type": "code",
      "execution_count": 2,
      "metadata": {
        "id": "mZ9_rReREgNv"
      },
      "outputs": [],
      "source": [
        "import torch\n",
        "import numpy as np"
      ]
    },
    {
      "cell_type": "markdown",
      "source": [
        "# LIST"
      ],
      "metadata": {
        "id": "IZatTtbWFYdx"
      }
    },
    {
      "cell_type": "code",
      "source": [
        "my_list = [[1,2,3,4,5],[6,7,8,9,10]]\n",
        "my_list"
      ],
      "metadata": {
        "colab": {
          "base_uri": "https://localhost:8080/"
        },
        "id": "kc72-7_rEp8g",
        "outputId": "3c9678ce-52b8-4b1a-d978-da0a97030287"
      },
      "execution_count": 3,
      "outputs": [
        {
          "output_type": "execute_result",
          "data": {
            "text/plain": [
              "[[1, 2, 3, 4, 5], [6, 7, 8, 9, 10]]"
            ]
          },
          "metadata": {},
          "execution_count": 3
        }
      ]
    },
    {
      "cell_type": "code",
      "source": [],
      "metadata": {
        "id": "AfUc1WcuFiQH"
      },
      "execution_count": null,
      "outputs": []
    },
    {
      "cell_type": "markdown",
      "source": [
        "# NUMPY ARRAY"
      ],
      "metadata": {
        "id": "7opNws1DFmk7"
      }
    },
    {
      "cell_type": "code",
      "source": [
        "np1 = np.random.rand(3,4)\n",
        "np1"
      ],
      "metadata": {
        "colab": {
          "base_uri": "https://localhost:8080/"
        },
        "id": "inp8dJDiFol7",
        "outputId": "bae13d93-d884-49ab-9af3-c86650e41b09"
      },
      "execution_count": 4,
      "outputs": [
        {
          "output_type": "execute_result",
          "data": {
            "text/plain": [
              "array([[0.15724309, 0.35015178, 0.08302452, 0.82168694],\n",
              "       [0.77647479, 0.40121278, 0.05355552, 0.80018768],\n",
              "       [0.05723351, 0.72042218, 0.31586861, 0.12597122]])"
            ]
          },
          "metadata": {},
          "execution_count": 4
        }
      ]
    },
    {
      "cell_type": "code",
      "source": [
        "np1.dtype"
      ],
      "metadata": {
        "colab": {
          "base_uri": "https://localhost:8080/"
        },
        "id": "R_1eNUOqFz59",
        "outputId": "e9eb61cd-5de0-463c-86e6-96eb2f06a567"
      },
      "execution_count": 5,
      "outputs": [
        {
          "output_type": "execute_result",
          "data": {
            "text/plain": [
              "dtype('float64')"
            ]
          },
          "metadata": {},
          "execution_count": 5
        }
      ]
    },
    {
      "cell_type": "markdown",
      "source": [
        "# TENSORS"
      ],
      "metadata": {
        "id": "zrSSG-l3F7SS"
      }
    },
    {
      "cell_type": "code",
      "source": [
        "tensor_2d = torch.randn(3,4)\n",
        "tensor_2d\n",
        "#tensor_2d.dtype"
      ],
      "metadata": {
        "colab": {
          "base_uri": "https://localhost:8080/"
        },
        "id": "wlASuv0EF6NE",
        "outputId": "a950e7b6-62c8-4e82-de66-e00df57d99bf"
      },
      "execution_count": 13,
      "outputs": [
        {
          "output_type": "execute_result",
          "data": {
            "text/plain": [
              "tensor([[ 0.1605,  2.5440,  1.0501, -1.7522],\n",
              "        [ 0.0856,  1.4537, -0.3146,  0.5501],\n",
              "        [-0.9160,  0.8065,  1.3874,  0.0162]])"
            ]
          },
          "metadata": {},
          "execution_count": 13
        }
      ]
    },
    {
      "cell_type": "code",
      "source": [
        "tensors_3d = torch.zeros(2, 3, 4)\n",
        "tensors_3d"
      ],
      "metadata": {
        "colab": {
          "base_uri": "https://localhost:8080/"
        },
        "id": "7LHoIADhGEoI",
        "outputId": "0fa8e2dc-4546-4463-da71-b62a5900ed07"
      },
      "execution_count": 8,
      "outputs": [
        {
          "output_type": "execute_result",
          "data": {
            "text/plain": [
              "tensor([[[0., 0., 0., 0.],\n",
              "         [0., 0., 0., 0.],\n",
              "         [0., 0., 0., 0.]],\n",
              "\n",
              "        [[0., 0., 0., 0.],\n",
              "         [0., 0., 0., 0.],\n",
              "         [0., 0., 0., 0.]]])"
            ]
          },
          "metadata": {},
          "execution_count": 8
        }
      ]
    },
    {
      "cell_type": "code",
      "source": [
        "tensors_4d = torch.randn(2, 3, 4, 5)\n",
        "tensors_4d"
      ],
      "metadata": {
        "colab": {
          "base_uri": "https://localhost:8080/"
        },
        "id": "v2RpCTsBGRxF",
        "outputId": "d74d2339-fcb1-4553-c6c2-0dd2232467ed"
      },
      "execution_count": 9,
      "outputs": [
        {
          "output_type": "execute_result",
          "data": {
            "text/plain": [
              "tensor([[[[ 3.2722e-01, -7.9852e-01,  1.7539e-01,  7.8093e-02,  5.4081e-01],\n",
              "          [ 5.4026e-01, -6.0276e-01, -5.6281e-02,  6.7780e-01, -4.4271e-02],\n",
              "          [ 1.3981e+00,  1.0093e+00,  7.9156e-02, -8.6237e-01, -9.3252e-01],\n",
              "          [-4.1258e-01, -4.7703e-01, -1.1376e+00,  6.4418e-01,  1.4859e+00]],\n",
              "\n",
              "         [[ 6.3062e-01,  4.7003e-01,  6.4234e-01,  3.4438e-01,  2.9648e-01],\n",
              "          [-1.8027e+00,  1.9877e+00,  5.9078e-02,  1.9341e+00, -5.3873e-01],\n",
              "          [-1.0408e+00,  1.4094e+00, -3.5395e-01,  1.4385e+00,  1.0387e+00],\n",
              "          [ 1.1385e-01,  1.9445e+00, -7.3415e-01, -2.0003e+00, -2.9800e-03]],\n",
              "\n",
              "         [[ 2.0306e+00, -4.7440e-01,  1.9005e+00, -7.6823e-01,  7.3010e-01],\n",
              "          [-1.2511e+00, -3.6350e-01, -1.0687e+00, -8.8091e-01, -2.5108e-01],\n",
              "          [-1.0298e+00,  4.0153e-01, -7.0013e-01,  1.0744e+00, -1.7539e+00],\n",
              "          [ 1.6483e-01,  8.2353e-01, -1.4044e-01,  3.3219e-01, -9.7544e-01]]],\n",
              "\n",
              "\n",
              "        [[[ 1.0381e+00,  7.7807e-01,  7.7033e-01,  4.7164e-01,  3.2304e-01],\n",
              "          [-7.7307e-02, -1.0668e-01, -5.6913e-01,  9.0862e-01,  5.6867e-01],\n",
              "          [ 2.8503e-01,  5.8159e-01, -9.9945e-01,  9.7118e-01,  1.0198e+00],\n",
              "          [-4.4212e-01, -1.6637e+00,  5.5406e-01, -1.3458e+00,  3.5542e-01]],\n",
              "\n",
              "         [[-1.1415e+00, -1.8472e-03,  1.2002e+00, -1.3113e+00,  1.3677e+00],\n",
              "          [ 1.5258e+00, -2.3067e+00,  8.4783e-01, -5.3583e-01, -4.2069e-02],\n",
              "          [ 8.7244e-02,  2.2897e-02, -1.1929e+00, -1.2357e+00, -1.8280e+00],\n",
              "          [-7.3708e-01,  1.0359e+00,  1.7432e+00,  1.4388e+00, -7.4651e-01]],\n",
              "\n",
              "         [[-2.0093e-01, -3.9475e-01,  9.2022e-01,  1.2516e+00,  6.2656e-01],\n",
              "          [ 1.9478e+00,  3.9447e-01, -1.2700e+00,  1.2874e-01, -2.5761e-01],\n",
              "          [ 7.5048e-01, -3.1093e-01, -3.3744e-01, -1.5029e+00, -7.2027e-01],\n",
              "          [-1.2714e+00,  1.3706e+00, -1.2176e+00, -4.9749e-01,  1.2147e-01]]]])"
            ]
          },
          "metadata": {},
          "execution_count": 9
        }
      ]
    },
    {
      "cell_type": "code",
      "source": [
        "## Create tensor out of numpy array\n",
        "my_tensor = torch.tensor(np1)\n",
        "my_tensor"
      ],
      "metadata": {
        "colab": {
          "base_uri": "https://localhost:8080/"
        },
        "id": "r7fGG3SlGYo9",
        "outputId": "1bd420c9-220d-4cde-8db3-e312c29f04f8"
      },
      "execution_count": 11,
      "outputs": [
        {
          "output_type": "execute_result",
          "data": {
            "text/plain": [
              "tensor([[0.1572, 0.3502, 0.0830, 0.8217],\n",
              "        [0.7765, 0.4012, 0.0536, 0.8002],\n",
              "        [0.0572, 0.7204, 0.3159, 0.1260]], dtype=torch.float64)"
            ]
          },
          "metadata": {},
          "execution_count": 11
        }
      ]
    },
    {
      "cell_type": "code",
      "source": [],
      "metadata": {
        "id": "nm8nxZqMGd77"
      },
      "execution_count": null,
      "outputs": []
    }
  ]
}